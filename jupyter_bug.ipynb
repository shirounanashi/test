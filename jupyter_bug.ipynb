{
 "cells": [
  {
   "cell_type": "code",
   "execution_count": 9,
   "id": "4dcfe77c-1cd8-4dc1-8d89-04b3e5e1b5f8",
   "metadata": {},
   "outputs": [
    {
     "name": "stdout",
     "output_type": "stream",
     "text": [
      "C:\\Users\\Guilherme\\teste_jupyter\\RVC_CLI\n"
     ]
    }
   ],
   "source": [
    "#@title ### **Inference**\n",
    "from glob import glob\n",
    "import os\n",
    "!git clone https://github.com/ShiromiyaG/RVC_CLI.git\n",
    "%cd RVC_CLI\n",
    "audio_input_folder = \"RVC_CLI/Input\" # @param {type:\"string\"}\n",
    "model_link = \"https://huggingface.co/ShiromiyaGamer/modelos-canal/resolve/main/edu-falaschi-motion-v2.zip\"  # @param {type:\"string\"}\n",
    "model_link = model_link\n",
    "model_name = os.path.splitext(os.path.basename(model_link))\n",
    "f0method = \"rmvpe\"  # @param [\"pm\", \"dio\", \"crepe\", \"crepe-tiny\", \"harvest\", \"rmvpe\", \"fcpe\", \"hybrid[rmvpe+fcpe]\"] {allow-input: false}\n",
    "pitch = 0  # @param {type:\"slider\", min:-24, max:24, step:0}\n",
    "filter_radius = 3  # @param {type:\"slider\", min:0, max:10, step:0}\n",
    "rms_mix_rate = 0.8  # @param {type:\"slider\", min:0.0, max:1.0, step:0.1}\n",
    "protect = 0.5  # @param {type:\"slider\", min:0.0, max:0.5, step:0.1}\n",
    "index_rate = 0.7  # @param {type:\"slider\", min:0.0, max:1.0, step:0.1}\n",
    "hop_length = 128  # @param {type:\"slider\", min:1, max:512, step:0}\n",
    "clean_strength = 0.7  # @param {type:\"slider\", min:0.0, max:1.0, step:0.1}\n",
    "split_audio = False  # @param{type:\"boolean\"}\n",
    "clean_audio = False  # @param{type:\"boolean\"}\n",
    "autotune = False  # @param{type:\"boolean\"}\n",
    "output_drive = \"Output\"\n",
    "model_destination_folder = \"logs\"\n",
    "\n",
    "def find_files(directory, extensions):\n",
    "  files = glob(f'{directory}/**/*{extensions}', recursive=True)\n",
    "  return files[0]\n",
    "!pip install -r requirements.txt\n",
    "input_files = glob(os.path.join(audio_input_folder, '*.flac')) + glob(os.path.join(audio_input_folder, '*.mp3')) + glob(os.path.join(audio_input_folder, '*.wav'))\n",
    "for input_file in input_files:\n",
    "  !python main.py download \\\n",
    "          --model_link \"{model_link}\"\n",
    "\n",
    "  pth_file = find_files(\"teste_jupyter/RVC_CLI/logs\", \".pth\")\n",
    "  index_file = find_files(\"teste_jupyter/RVC_CLI/logs\", \".index\")\n",
    "  output = \"output/output.wav\"\n",
    "\n",
    "  !python main.py infer \\\n",
    "          --input_path \"{output_vocals}\" \\\n",
    "          --output_path \"{output}\" \\\n",
    "          --f0up_key {pitch} \\\n",
    "          --filter_radius {filter_radius} \\\n",
    "          --index_rate {index_rate} \\\n",
    "          --hop_length {hop_length} \\\n",
    "          --rms_mix_rate {rms_mix_rate} \\\n",
    "          --protect {protect} \\\n",
    "          --pth_path {pth_file} \\\n",
    "          --index_path {index_file} \\\n",
    "          --f0autotune {autotune} \\\n",
    "          --f0method \"{f0method}\" \\\n",
    "          --split_audio {split_audio} \\\n",
    "          --clean_audio {clean_audio} \\\n",
    "          --clean_strength {clean_strength} \\\n",
    "          --export_format \"WAV\""
   ]
  },
  {
   "cell_type": "code",
   "execution_count": 8,
   "id": "5a1ff892-1375-44da-a64b-b2252b702df9",
   "metadata": {},
   "outputs": [
    {
     "name": "stdout",
     "output_type": "stream",
     "text": [
      "C:\\Users\\Guilherme\\teste_jupyter\n"
     ]
    }
   ],
   "source": [
    "%cd C:\\Users\\Guilherme\\teste_jupyter"
   ]
  },
  {
   "cell_type": "code",
   "execution_count": null,
   "id": "4928d94d-3879-4c6e-add5-dee91f87eb60",
   "metadata": {},
   "outputs": [],
   "source": []
  }
 ],
 "metadata": {
  "kernelspec": {
   "display_name": "Python 3 (ipykernel)",
   "language": "python",
   "name": "python3"
  },
  "language_info": {
   "codemirror_mode": {
    "name": "ipython",
    "version": 3
   },
   "file_extension": ".py",
   "mimetype": "text/x-python",
   "name": "python",
   "nbconvert_exporter": "python",
   "pygments_lexer": "ipython3",
   "version": "3.10.9"
  }
 },
 "nbformat": 4,
 "nbformat_minor": 5
}
